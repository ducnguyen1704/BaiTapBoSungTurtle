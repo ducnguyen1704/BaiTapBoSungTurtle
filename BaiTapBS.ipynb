{
 "cells": [
  {
   "cell_type": "code",
   "execution_count": 2,
   "source": [
    "import turtle\r\n",
    "t = turtle.Turtle()"
   ],
   "outputs": [],
   "metadata": {}
  },
  {
   "cell_type": "code",
   "execution_count": 4,
   "source": [
    "t.pensize(3)\r\n",
    "t.pencolor(\"red\")\r\n",
    "for i in range(5):\r\n",
    "    t.right(72)\r\n",
    "    t.forward(50)\r\n",
    "    t.left(90)\r\n",
    "    t.forward(100)\r\n",
    "    t.left(90)\r\n",
    "    t.forward(100)\r\n",
    "    t.left(90)\r\n",
    "    t.forward(100)\r\n",
    "    t.left(90)\r\n",
    "    t.forward(50)"
   ],
   "outputs": [],
   "metadata": {}
  },
  {
   "cell_type": "code",
   "execution_count": null,
   "source": [],
   "outputs": [],
   "metadata": {}
  }
 ],
 "metadata": {
  "orig_nbformat": 4,
  "language_info": {
   "name": "python",
   "version": "3.7.0",
   "mimetype": "text/x-python",
   "codemirror_mode": {
    "name": "ipython",
    "version": 3
   },
   "pygments_lexer": "ipython3",
   "nbconvert_exporter": "python",
   "file_extension": ".py"
  },
  "kernelspec": {
   "name": "python3",
   "display_name": "Python 3.7.0 64-bit"
  },
  "interpreter": {
   "hash": "fbe69909b876abbd803d291e51ebabcdbbeff4e7f625f723ebefe76e750e4611"
  }
 },
 "nbformat": 4,
 "nbformat_minor": 2
}